{
 "cells": [
  {
   "cell_type": "markdown",
   "metadata": {},
   "source": [
    "<h2></h2>\n",
    "<h1 align='center'><b>Main Code - Código principal</b></h1>\n",
    "<h2 align='center'>Movie Analysis</h2>"
   ]
  },
  {
   "cell_type": "markdown",
   "metadata": {},
   "source": [
    "<p align='center'>\n",
    "<img alt=\"stack\" src=\"img/portada.jpg\" width=\"75%\">\n",
    "</p>"
   ]
  },
  {
   "cell_type": "markdown",
   "metadata": {},
   "source": [
    "Importamos Librerías - Import Libraries"
   ]
  },
  {
   "cell_type": "code",
   "execution_count": 2,
   "metadata": {},
   "outputs": [],
   "source": [
    "import pandas as pd\n",
    "import numpy as np\n",
    "\n",
    "from sklearn.preprocessing import StandardScaler\n",
    "from sklearn.cluster import KMeans"
   ]
  },
  {
   "cell_type": "markdown",
   "metadata": {},
   "source": [
    "Importamos DataSet - Import Dataset"
   ]
  },
  {
   "cell_type": "code",
   "execution_count": 3,
   "metadata": {},
   "outputs": [],
   "source": [
    "df = pd.read_csv(\"movies_dataset.csv\", delimiter=\",\",index_col=False, names=[\"adult\",\"belongs_to_collection\",\"budget\",\"genres\",\"homepage\",\"id\",\"imdb_id\",\"original_language\",\"original_title\",\"overview\",\"popularity\",\"poster_path\",\"production_companies\",\"production_countries\",\"release_date\",\"revenue\",\"runtime\",\"spoken_languages\",\"status\",\"tagline\",\"title\",\"video\",\"vote_average\",\"vote_count\"],header=0)\n",
    "df = df.drop(columns=[\"video\",\"imdb_id\",\"adult\",\"original_title\",\"vote_count\",\"poster_path\", \"homepage\"])"
   ]
  },
  {
   "cell_type": "markdown",
   "metadata": {},
   "source": [
    "##### - Some rows have string data, so we need to convert them in datatype list\n",
    "\n",
    "##### - Algunas columnas tienen datos string por ende hay que traducirlos a listas"
   ]
  },
  {
   "cell_type": "code",
   "execution_count": 4,
   "metadata": {},
   "outputs": [],
   "source": [
    "def get_values(lista):\n",
    "    if type(lista) == float:\n",
    "        return \"\"\n",
    "    res=\"\"\n",
    "    import json\n",
    "    lista_diccionarios = json.loads(lista.replace(\"'\", \"\\\"\"))\n",
    "    for dic in lista_diccionarios:\n",
    "        res+=str((list(dic.values())[1]))+\", \"\n",
    "    return res[:(len(res))-2]\n",
    "\n",
    "def get_values_countries(lista):\n",
    "    if type(lista) == float:\n",
    "        return \"\"\n",
    "    if lista == \"\":\n",
    "        return \"\"\n",
    "    res=\"\"\n",
    "    import json\n",
    "    lista_diccionarios = json.loads(lista.replace(\"'\", \"\\\"\"))\n",
    "    \n",
    "    if type(lista_diccionarios)== float:\n",
    "        return \"\"\n",
    "    \n",
    "    for dic in lista_diccionarios:\n",
    "        res+=str((list(dic.values())[0]))+\", \"\n",
    "    return res[:(len(res))-2]\n",
    "\n",
    "import json\n",
    "count=0\n",
    "unalista=[]\n",
    "for i, val in enumerate(df[\"production_companies\"]):\n",
    "    if isinstance(val, str):\n",
    "        try:\n",
    "            json.loads(val.replace(\"\\\"\",\"\").replace(\"'\", \"\\\"\"))\n",
    "        except json.JSONDecodeError as e:\n",
    "            unalista.append(i)\n",
    "unalista = set(unalista)\n",
    "\n",
    "def get_values_production_companies_alter(lista):\n",
    "    import re\n",
    "    regex = r\"'name': '(?:(?<!\\\\)'|\\\\')*([^']+)'\"\n",
    "    matches = re.findall(regex, lista)\n",
    "    \n",
    "    if not matches:\n",
    "        return \"\"\n",
    "    \n",
    "    return \", \".join(matches)\n",
    "\n",
    "def get_value_production_companies(x):\n",
    "    if x.name in unalista:\n",
    "        return x[\"production_companies\"]\n",
    "    if type(x[\"production_companies\"]) != str:\n",
    "        return x[\"production_companies\"]\n",
    "    if \"\\'\" in x[\"production_companies\"]:\n",
    "        return get_values_production_companies_alter(x[\"production_companies\"])\n",
    "    \n",
    "    res=\"\"\n",
    "    import json\n",
    "    lista_diccionarios = json.loads(x[\"production_companies\"].replace(\"'\", \"\\\"\"))\n",
    "    for dic in lista_diccionarios:\n",
    "        res+=str((list(dic.values())[1]))+\", \"\n",
    "    return res[:(len(res))-2]\n",
    "\n",
    "def get_collection_name(string):\n",
    "    if type(string) != str:\n",
    "        return string\n",
    "    v1=3\n",
    "    res=\"\"\n",
    "    for let in string:\n",
    "        if let == \" \":\n",
    "            v1-=1\n",
    "        if v1 <= 0 and let == \",\":\n",
    "            break\n",
    "        if v1 <= 0:\n",
    "            res+=let\n",
    "    return res\n",
    "\n",
    "def get_year(lista):\n",
    "    return lista[:4]\n",
    "\n",
    "def return_fun(rev,bud):\n",
    "    if bud==0:\n",
    "        return 0\n",
    "    return rev/bud\n",
    "\n",
    "df[\"genres\"]=df[\"genres\"].apply(get_values)\n",
    "df[\"belongs_to_collection\"]=df[\"belongs_to_collection\"].apply(get_collection_name)\n",
    "df[\"production_companies\"] = df.apply(get_value_production_companies, axis=1)\n",
    "\n",
    "listaa=[]\n",
    "for i, val in enumerate(df[\"production_countries\"]):\n",
    "    if isinstance(val, str):\n",
    "        try:\n",
    "            json.loads(val.replace(\"\\\"\",\"\").replace(\"'\", \"\\\"\"))\n",
    "        except json.JSONDecodeError as e:\n",
    "            listaa.append(i)\n",
    "\n",
    "\n",
    "df[\"production_countries\"] = df[\"production_countries\"].drop(index=listaa)\n",
    "df[\"production_countries\"]=df[\"production_countries\"].apply(get_values_countries)\n",
    "\n",
    "listaa=[]\n",
    "for i, val in enumerate(df[\"spoken_languages\"]):\n",
    "    if isinstance(val, str):\n",
    "        try:\n",
    "            json.loads(val.replace(\"\\\"\",\"\").replace(\"'\", \"\\\"\"))\n",
    "        except json.JSONDecodeError as e:\n",
    "            listaa.append(i)\n",
    "\n",
    "df[\"spoken_languages\"] = df[\"spoken_languages\"].drop(index=listaa)\n",
    "df[\"spoken_languages\"]=df[\"spoken_languages\"].apply(get_values_countries)"
   ]
  },
  {
   "cell_type": "markdown",
   "metadata": {},
   "source": [
    "Data Cleaning - Limpeiza de Datos"
   ]
  },
  {
   "cell_type": "code",
   "execution_count": 5,
   "metadata": {},
   "outputs": [],
   "source": [
    "df[\"budget\"] = df[\"budget\"].astype(int)\n",
    "df = df.dropna(subset=['release_date'])\n",
    "\n",
    "df[\"release_year\"]= df['release_date'].apply(get_year)\n",
    "nulos = df[\"release_year\"].isnull().sum()\n",
    "\n",
    "df[\"revenue\"] = df[\"revenue\"].apply(int)\n",
    "df[\"budget\"] = df[\"budget\"].apply(int)\n",
    "\n",
    "df['belongs_to_collection'] = df['belongs_to_collection'].fillna('')\n",
    "df['production_countries']=df['production_countries'].replace(\" \",\"UnknownCountry\")\n",
    "df['production_countries']=df['production_countries'].replace(\"\",\"UnknownCountry\")\n",
    "df['genres']=df['genres'].replace(\" \",\"UnknownGenre\")\n",
    "df['genres']=df['genres'].replace(\"\",\"UnknownGenre\")\n",
    "\n",
    "df[\"return\"]=df['revenue']/df['budget']\n",
    "\n",
    "df['release_date'] = pd.to_datetime(df['release_date'])"
   ]
  },
  {
   "cell_type": "markdown",
   "metadata": {},
   "source": [
    "## Descriptive Functions - Funciónes Descriptivas"
   ]
  },
  {
   "cell_type": "markdown",
   "metadata": {},
   "source": [
    "#### peliculas_mes\n",
    "\n",
    "##### - Se ingresa el mes y la funcion retorna la cantidad de peliculas que se estrenaron ese mes (nombre del mes, en str, ejemplo 'enero') historicamente\n",
    "\n",
    "##### - The month is entered and the function returns the number of movies that were released that month (name of the month, in str, example 'January') historically"
   ]
  },
  {
   "cell_type": "code",
   "execution_count": 6,
   "metadata": {},
   "outputs": [],
   "source": [
    "def peliculas_mes(mes): \n",
    "    cant=0\n",
    "    if mes == \"enero\":\n",
    "        mesNum=1\n",
    "    elif mes == \"febrero\":\n",
    "        mesNum = 2\n",
    "    elif mes == \"marzo\":\n",
    "        mesNum = 3 \n",
    "    elif mes == \"abril\":\n",
    "        mesNum = 4 \n",
    "    elif mes == \"mayo\":\n",
    "        mesNum = 5 \n",
    "    elif mes == \"junio\":\n",
    "        mesNum = 6\n",
    "    elif mes == \"julio\":\n",
    "        mesNum = 7 \n",
    "    elif mes == \"agosto\":\n",
    "        mesNum = 8 \n",
    "    elif mes == \"septiembre\":\n",
    "        mesNum = 9 \n",
    "    elif mes == \"octubre\":\n",
    "        mesNum = 10 \n",
    "    elif mes == \"noviembre\":\n",
    "        mesNum = 11 \n",
    "    elif mes == \"diciembre\":\n",
    "        mesNum = 12 \n",
    "    else:\n",
    "        return print(\"Ingresa un mes correcto\") \n",
    "    \n",
    "    for row, mon in enumerate(df['release_date']):\n",
    "        try:\n",
    "            df['release_date'][row]\n",
    "        except KeyError:\n",
    "            continue\n",
    "\n",
    "        if df['release_date'][row].month == mesNum:\n",
    "            cant = cant + 1\n",
    "\n",
    "    return 'En el mes de ' + str(mes)  + ' se han producido ' + str(cant) + \" películas\""
   ]
  },
  {
   "cell_type": "markdown",
   "metadata": {},
   "source": [
    "#### peliculas_dia\n",
    "\n",
    "##### - Se ingresa el dia y la funcion retorna la cantidad de peliculas que se estrenaron ese dia (de la semana, en str, ejemplo 'lunes') historicamente\n",
    "\n",
    "##### - The day is entered and the function returns the number of movies that were released that day (of the week, in str, example 'Monday') historically"
   ]
  },
  {
   "cell_type": "code",
   "execution_count": 7,
   "metadata": {},
   "outputs": [],
   "source": [
    "def peliculas_dia(dia):  \n",
    "    cant=0\n",
    "    if dia == \"martes\":\n",
    "        diaNum=1\n",
    "    elif dia == \"miercoles\":\n",
    "        diaNum = 2\n",
    "    elif dia == \"jueves\":\n",
    "        diaNum = 3 \n",
    "    elif dia == \"viernes\":\n",
    "        diaNum = 4 \n",
    "    elif dia == \"sabado\":\n",
    "        diaNum = 5 \n",
    "    elif dia == \"domingo\":\n",
    "        diaNum = 6\n",
    "    elif dia == \"lunes\":\n",
    "        diaNum = 0 \n",
    "    else:\n",
    "        return print(\"Ingresa un dia de la semana correcto\") \n",
    "\n",
    "    for row, d in enumerate(df['release_date']):\n",
    "        try:\n",
    "            df['release_date'][row]\n",
    "        except KeyError:\n",
    "            continue\n",
    "\n",
    "        if df['release_date'][row].weekday() == diaNum:\n",
    "            cant = cant + 1\n",
    "    \n",
    "    return 'El día ' + str(dia)  + ' han producido ' + str(cant) + \" películas\""
   ]
  },
  {
   "cell_type": "markdown",
   "metadata": {},
   "source": [
    "#### franquicia\n",
    "\n",
    "##### - Se ingresa la franquicia, retornando la cantidad de peliculas, ganancia total y promedio\n",
    "\n",
    "##### - The franchise is entered, returning the number of movies, total and average profit"
   ]
  },
  {
   "cell_type": "code",
   "execution_count": 8,
   "metadata": {},
   "outputs": [],
   "source": [
    "def franquicia(franquicia):  \n",
    "    if franquicia==\"\":\n",
    "       return print(\"Ingresa una franquicia\") \n",
    "    cant,total,ctrl=0,0,False\n",
    "    for row, d in enumerate(df['belongs_to_collection']):\n",
    "        try:\n",
    "            df['belongs_to_collection'][row]\n",
    "        except KeyError:\n",
    "            continue\n",
    "\n",
    "        else:\n",
    "            if franquicia in df['belongs_to_collection'][row]:\n",
    "                cant = cant + 1\n",
    "                total+=df['revenue'][row]\n",
    "                ctrl=True\n",
    "    if total == 0:\n",
    "        cant = 1\n",
    "\n",
    "    if not ctrl:\n",
    "        return print('La franquicia no se encuentra en la lista')\n",
    "    \n",
    "    return 'La franquicia de ' + str(franquicia) + ' produció una cantidad de ' + str(cant) + ' películas con una ganancia promedio total de '+ str(int(total/cant))"
   ]
  },
  {
   "cell_type": "markdown",
   "metadata": {},
   "source": [
    "#### peliculas_pais\n",
    "\n",
    "##### - Ingresas el pais, retornando la cantidad de peliculas producidas en el mismo\n",
    "\n",
    "##### - Enter the country, returning the number of films produced in the same"
   ]
  },
  {
   "cell_type": "code",
   "execution_count": 9,
   "metadata": {},
   "outputs": [],
   "source": [
    "def peliculas_pais(pais):\n",
    "    if pais==\"\":\n",
    "       return print(\"Ingresa un pais\") \n",
    "    cant,ctrl=0,False\n",
    "    for row, p in enumerate(df['production_countries']):\n",
    "        try:\n",
    "            df['production_countries'][row]\n",
    "        except KeyError:\n",
    "            continue\n",
    "        else:\n",
    "            if pais in df['production_countries'][row]:\n",
    "                cant = cant + 1\n",
    "                ctrl=True\n",
    "    if not ctrl:\n",
    "        return print('El pais no se encuentra en la lista')\n",
    "    return 'El país de '+ str(pais) + ' produció una cantidad de '+ str(cant) + \" películas\""
   ]
  },
  {
   "cell_type": "markdown",
   "metadata": {},
   "source": [
    "#### productoras\n",
    "\n",
    "##### - Ingresas la productora, retornando la ganancia total y la cantidad de peliculas que produjeron\n",
    "\n",
    "##### - You enter the production company, returning the total profit and the number of movies they produced"
   ]
  },
  {
   "cell_type": "code",
   "execution_count": 10,
   "metadata": {},
   "outputs": [],
   "source": [
    "def productoras(productora): \n",
    "    if productora==\"\":\n",
    "       return print(\"Ingresa una productora\") \n",
    "    cant,total,ctrl=0,0,False\n",
    "    for row, p in enumerate(df['production_companies']):\n",
    "        try:\n",
    "            df['production_companies'][row]\n",
    "        except KeyError:\n",
    "            continue\n",
    "        else:\n",
    "            if productora in df['production_companies'][row]:\n",
    "                cant = cant + 1\n",
    "                total+=df['revenue'][row]\n",
    "                ctrl=True\n",
    "    if not ctrl:\n",
    "        return print('La productora no se encuentra en la lista')\n",
    "    if total == 0:\n",
    "        total=\"( Desconocido )\"\n",
    "\n",
    "    return \"La productora \" + str(productora)  +' gano un total de ' + str(total) + ' dolares, con una cantidad de ' + str(cant) + \" películas\""
   ]
  },
  {
   "cell_type": "markdown",
   "metadata": {},
   "source": [
    "#### - Generar una lista de géneros (únicos) y una lista de paises (únicos)\n",
    "\n",
    "#### - Generate a list of genres (unique) and a list of countries (unique)"
   ]
  },
  {
   "cell_type": "code",
   "execution_count": 11,
   "metadata": {},
   "outputs": [],
   "source": [
    "list_genres=[]\n",
    "list_pais=[]\n",
    "for row in df[\"genres\"]: \n",
    "    word=\"\"\n",
    "    for let in row:\n",
    "        if let==\",\":\n",
    "            if word not in list_genres:\n",
    "                list_genres.append(word)\n",
    "            word=\"\"\n",
    "        elif let == \" \":\n",
    "            continue\n",
    "        else:\n",
    "            word+=let\n",
    "\n",
    "for row in df[\"production_countries\"]: \n",
    "    word=\"\"\n",
    "    for let in row:\n",
    "        if let==\",\":\n",
    "            if word not in list_pais:\n",
    "                list_pais.append(word)\n",
    "            word=\"\"\n",
    "        elif let == \" \":\n",
    "            continue\n",
    "        else:\n",
    "            word+=let"
   ]
  },
  {
   "cell_type": "markdown",
   "metadata": {},
   "source": [
    "## Machine Learning\n",
    "\n",
    "#### - \"dataMachine\" es una copia del dataframe anterior pero tendrá ciertas modificaciones para su proceso con inteligencia artificial\n",
    "\n",
    "#### - \"dataMachine\" is a copy of the previous dataframe but will have certain modifications for its processing with artificial intelligence"
   ]
  },
  {
   "cell_type": "code",
   "execution_count": 12,
   "metadata": {},
   "outputs": [],
   "source": [
    "dataMachine=pd.DataFrame()\n",
    "dataMachine[\"title\"] = df[\"title\"]\n",
    "dataMachine[\"vote_average\"] = df[\"vote_average\"]\n",
    "dataMachine[\"runtime\"] = df[\"runtime\"]\n",
    "dataMachine[\"release_year\"] = df[\"release_year\"]\n",
    "dataMachine[\"genres\"] = df[\"genres\"]\n",
    "dataMachine[\"production_countries\"] = df[\"production_countries\"]"
   ]
  },
  {
   "cell_type": "code",
   "execution_count": 13,
   "metadata": {},
   "outputs": [],
   "source": [
    "countries = dataMachine['production_countries'].str.split(', ', expand=True)\n",
    "genres = dataMachine['genres'].str.split(', ', expand=True)"
   ]
  },
  {
   "cell_type": "markdown",
   "metadata": {},
   "source": [
    "#### - Se convierten las columnas categóricas a dummies\n",
    "\n",
    "#### - Categorical columns are converted to dummies"
   ]
  },
  {
   "cell_type": "code",
   "execution_count": 14,
   "metadata": {},
   "outputs": [],
   "source": [
    "country_dummies = pd.get_dummies(countries, prefix='', prefix_sep='')\n",
    "genres_dummies = pd.get_dummies(genres, prefix='', prefix_sep='')\n",
    "\n",
    "country_dummies = country_dummies.groupby(level=0, axis=1).sum().clip(upper=1)\n",
    "genres_dummies = genres_dummies.groupby(level=0, axis=1).sum().clip(upper=1)\n",
    "\n",
    "# Agregar las columnas de dummies al dataframe original\n",
    "dataMachine = pd.concat([dataMachine, genres_dummies], axis=1)\n",
    "dataMachine = pd.concat([dataMachine, country_dummies], axis=1)\n",
    "\n",
    "# Eliminar la columna original de 'production_countries'\n",
    "dataMachine.drop('production_countries', axis=1, inplace=True)\n",
    "dataMachine.drop('genres', axis=1, inplace=True)"
   ]
  },
  {
   "cell_type": "code",
   "execution_count": 15,
   "metadata": {},
   "outputs": [],
   "source": [
    "dataMachine[\"runtime\"] = dataMachine[\"runtime\"].fillna(0)\n",
    "dataMachine[\"release_year\"] = dataMachine[\"release_year\"].fillna(0)\n",
    "dataMachine[\"vote_average\"] = dataMachine[\"vote_average\"].fillna(0)\n",
    "dataMachine['runtime'] = dataMachine['runtime'].apply(int)"
   ]
  },
  {
   "cell_type": "markdown",
   "metadata": {},
   "source": [
    "Eliminar las filas donde runtime > 200 and < 60\n",
    "\n",
    "Delete the rows where runtime > 200 and < 60"
   ]
  },
  {
   "cell_type": "code",
   "execution_count": 16,
   "metadata": {},
   "outputs": [],
   "source": [
    "dataMachine = dataMachine.drop(dataMachine[dataMachine['runtime'] > 200].index)\n",
    "dataMachine = dataMachine.drop(dataMachine[dataMachine['runtime'] < 60].index)"
   ]
  },
  {
   "cell_type": "code",
   "execution_count": 17,
   "metadata": {},
   "outputs": [],
   "source": [
    "dataMachine['runtime'] = dataMachine['runtime'].replace(0,int(dataMachine['runtime'].mean()))\n",
    "dataMachine['vote_average'] = dataMachine['vote_average'].replace(0,int(dataMachine['vote_average'].mean()))\n",
    "dataMachine['release_year'] = dataMachine['release_year'].apply(int)"
   ]
  },
  {
   "cell_type": "markdown",
   "metadata": {},
   "source": [
    "#### - Algunos títulos estaban repetidos por el hecho de que hay varias películas con el mismo nombre pero distinto año de lanzamiento#, asi que se le agrega el año al nombre\n",
    "\n",
    "#### - Some titles were repeated due to the fact that there are several movies with the same name but different years of release, so the year is added to the name"
   ]
  },
  {
   "cell_type": "code",
   "execution_count": 18,
   "metadata": {},
   "outputs": [],
   "source": [
    "lista_duplicados = []\n",
    "for n in dataMachine[dataMachine.duplicated(subset=[\"title\"], keep=False)][\"title\"]:\n",
    "    if n not in lista_duplicados:\n",
    "        lista_duplicados.append(n)\n",
    "\n",
    "def add_release_year(title, release_year):\n",
    "    if title in lista_duplicados:\n",
    "        return f\"{title} ({release_year})\"\n",
    "    else:\n",
    "        return title\n",
    "\n",
    "dataMachine[\"title\"] = dataMachine.apply(lambda x: add_release_year(x[\"title\"], x[\"release_year\"]), axis=1)"
   ]
  },
  {
   "cell_type": "markdown",
   "metadata": {},
   "source": [
    "### Machine learning - Kmeans - Clustering"
   ]
  },
  {
   "cell_type": "code",
   "execution_count": 19,
   "metadata": {},
   "outputs": [],
   "source": [
    "# seleccionar características\n",
    "\n",
    "X = dataMachine[[\"runtime\",\"release_year\"]]\n",
    "\n",
    "# crear objeto StandardScaler y aplicarlo a los datos\n",
    "scaler = StandardScaler()\n",
    "X_norm = scaler.fit_transform(X)\n",
    "\n",
    "# reemplazar valores normalizados en el DataFrame original\n",
    "dataMachine[[\"runtime\",\"release_year\"]] = X_norm\n",
    "\n",
    "# seleccionar características\n",
    "X = dataMachine.columns[2:]\n",
    "# determinar el número de clusters\n",
    "n_clusters = 15\n",
    "\n",
    "# crear modelo KMeans\n",
    "kmeans = KMeans(n_clusters=n_clusters,n_init=10, random_state=42)\n",
    "\n",
    "# entrenar modelo con datos normalizados\n",
    "kmeans.fit(X_norm)\n",
    "\n",
    "# predecir cluster para cada observación\n",
    "cluster_labels = kmeans.predict(X_norm)\n",
    "\n",
    "# agregar etiquetas de cluster a los datos originales\n",
    "dataMachine[\"cluster\"] = cluster_labels\n",
    "\n",
    "# función para obtener películas similares\n",
    "\n",
    "#dataMachine[[\"runtime\",\"release_year\"]] = memory\n",
    "def get_similar_movies(title):\n",
    "    # encontrar cluster de la película buscada\n",
    "    try:\n",
    "        movie_cluster = dataMachine[dataMachine[\"title\"] == title][\"cluster\"].iloc[0]\n",
    "    except IndexError:\n",
    "        return print(\"La pelicula que ingresaste no esta en la lista o tiene un error ortografico\")\n",
    "    \n",
    "    movie_cluster = dataMachine[dataMachine[\"title\"] == title][\"cluster\"].iloc[0]\n",
    "    \n",
    "    # seleccionar películas del mismo cluster, excepto la buscada\n",
    "    similar_movies = dataMachine[(dataMachine[\"cluster\"] == movie_cluster) & (dataMachine[\"title\"] != title)].copy()\n",
    "    \n",
    "    # calcular distancia euclidiana entre cada película y la de referencia\n",
    "    reference_movie = dataMachine[dataMachine[\"title\"] == title][X].values\n",
    "    distances = np.linalg.norm(similar_movies[X].values - reference_movie, axis=1)\n",
    "    \n",
    "    # agregar distancia como columna en similar_movies y ordenar por distancia\n",
    "    similar_movies[\"distance\"] = distances\n",
    "    similar_movies = similar_movies.sort_values(by=[\"distance\"], ascending=[True])\n",
    "    \n",
    "    tabla_resultado = pd.DataFrame(similar_movies.head(5)[\"title\"]).reset_index(drop=True)\n",
    "    tabla_resultado.index = tabla_resultado.index + 1\n",
    "\n",
    "    return tabla_resultado"
   ]
  },
  {
   "cell_type": "markdown",
   "metadata": {},
   "source": [
    "#### - Guardar en un csv la lista de películas\n",
    "\n",
    "#### - Save in a csv file the list of movies"
   ]
  },
  {
   "cell_type": "code",
   "execution_count": 20,
   "metadata": {},
   "outputs": [],
   "source": [
    "# Obtener la lista de títulos de películas\n",
    "movies_list = dataMachine[\"title\"].unique().tolist()\n",
    "\n",
    "# Convertir la lista a un DataFrame de pandas\n",
    "data_frame = pd.DataFrame(movies_list, columns=[\"title\"])\n",
    "\n",
    "# Escribir el DataFrame en el archivo CSV\n",
    "data_frame.to_csv(\"movies_list.csv\", index=False)\n"
   ]
  },
  {
   "cell_type": "markdown",
   "metadata": {},
   "source": [
    "<h2></h2>\n",
    "<h2 align='center'><b>Final Results - Resultados Finales</b></h2>\n",
    "<h2></h2>"
   ]
  },
  {
   "cell_type": "markdown",
   "metadata": {},
   "source": [
    "### - Ejemplo FINAL de la recomendación"
   ]
  },
  {
   "cell_type": "code",
   "execution_count": 21,
   "metadata": {},
   "outputs": [
    {
     "data": {
      "text/html": [
       "<div>\n",
       "<style scoped>\n",
       "    .dataframe tbody tr th:only-of-type {\n",
       "        vertical-align: middle;\n",
       "    }\n",
       "\n",
       "    .dataframe tbody tr th {\n",
       "        vertical-align: top;\n",
       "    }\n",
       "\n",
       "    .dataframe thead th {\n",
       "        text-align: right;\n",
       "    }\n",
       "</style>\n",
       "<table border=\"1\" class=\"dataframe\">\n",
       "  <thead>\n",
       "    <tr style=\"text-align: right;\">\n",
       "      <th></th>\n",
       "      <th>title</th>\n",
       "    </tr>\n",
       "  </thead>\n",
       "  <tbody>\n",
       "    <tr>\n",
       "      <th>1</th>\n",
       "      <td>Helter Skelter (1976)</td>\n",
       "    </tr>\n",
       "    <tr>\n",
       "      <th>2</th>\n",
       "      <td>Prince of the City</td>\n",
       "    </tr>\n",
       "    <tr>\n",
       "      <th>3</th>\n",
       "      <td>The Godfather: Part II</td>\n",
       "    </tr>\n",
       "    <tr>\n",
       "      <th>4</th>\n",
       "      <td>Out of Africa</td>\n",
       "    </tr>\n",
       "    <tr>\n",
       "      <th>5</th>\n",
       "      <td>Casino</td>\n",
       "    </tr>\n",
       "  </tbody>\n",
       "</table>\n",
       "</div>"
      ],
      "text/plain": [
       "                    title\n",
       "1   Helter Skelter (1976)\n",
       "2      Prince of the City\n",
       "3  The Godfather: Part II\n",
       "4           Out of Africa\n",
       "5                  Casino"
      ]
     },
     "execution_count": 21,
     "metadata": {},
     "output_type": "execute_result"
    }
   ],
   "source": [
    "get_similar_movies(\"The Godfather\")"
   ]
  },
  {
   "cell_type": "markdown",
   "metadata": {},
   "source": [
    "### - Ejemplo similar al anterior pero con un input\n",
    "### - Example similar to the previous one but with an input"
   ]
  },
  {
   "cell_type": "code",
   "execution_count": 22,
   "metadata": {},
   "outputs": [
    {
     "name": "stdout",
     "output_type": "stream",
     "text": [
      "La pelicula que ingresaste no esta en la lista o tiene un error ortografico\n"
     ]
    }
   ],
   "source": [
    "movie = input(\"Ingresa una película para devolver las 5 mas similares\")\n",
    "\n",
    "get_similar_movies(movie)"
   ]
  },
  {
   "cell_type": "markdown",
   "metadata": {},
   "source": [
    "### - Ejemplo de las funciónes secundarias\n",
    "### - Example of secondary functions"
   ]
  },
  {
   "cell_type": "code",
   "execution_count": 23,
   "metadata": {},
   "outputs": [
    {
     "name": "stdout",
     "output_type": "stream",
     "text": [
      "En el mes de marzo se han producido 3545 películas\n",
      "-\n",
      "El día jueves han producido 7504 películas\n",
      "-\n",
      "La franquicia de Toy Story Collection produció una cantidad de 3 películas con una ganancia promedio total de 645963535\n",
      "-\n",
      "El país de US produció una cantidad de 21125 películas\n",
      "-\n",
      "La productora Pixar Animation Studios gano un total de 11188533734 dolares, con una cantidad de 52 películas\n"
     ]
    }
   ],
   "source": [
    "print(peliculas_mes(\"marzo\"))\n",
    "print(\"-\")\n",
    "print(peliculas_dia(\"jueves\"))\n",
    "print(\"-\")\n",
    "print(franquicia(\"Toy Story Collection\"))\n",
    "print(\"-\")\n",
    "print(peliculas_pais(\"US\"))\n",
    "print(\"-\")\n",
    "print(productoras(\"Pixar Animation Studios\"))"
   ]
  },
  {
   "cell_type": "markdown",
   "metadata": {},
   "source": [
    "### - Guardar los datos procesados para su posterior análisis estadístico\n",
    "### - Save processed data for later statistical analysis"
   ]
  },
  {
   "cell_type": "code",
   "execution_count": 24,
   "metadata": {},
   "outputs": [],
   "source": [
    "dataStat = df.drop(columns=[\"belongs_to_collection\",\"budget\",\"id\",\"revenue\",\"status\",\"release_year\",\"return\",\"spoken_languages\",\"overview\",\"popularity\"])\n",
    "dataStat.to_csv(\"dataStat.csv\",index=False, sep=\";\")"
   ]
  }
 ],
 "metadata": {
  "kernelspec": {
   "display_name": "Python 3",
   "language": "python",
   "name": "python3"
  },
  "language_info": {
   "codemirror_mode": {
    "name": "ipython",
    "version": 3
   },
   "file_extension": ".py",
   "mimetype": "text/x-python",
   "name": "python",
   "nbconvert_exporter": "python",
   "pygments_lexer": "ipython3",
   "version": "3.10.11"
  },
  "orig_nbformat": 4
 },
 "nbformat": 4,
 "nbformat_minor": 2
}
